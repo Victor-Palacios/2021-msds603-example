{
 "cells": [
  {
   "cell_type": "markdown",
   "metadata": {},
   "source": [
    "# Class Definition"
   ]
  },
  {
   "cell_type": "code",
   "execution_count": null,
   "metadata": {},
   "outputs": [],
   "source": [
    "class Animal():\n",
    "    def __init__(self):\n",
    "        self.breath = True\n",
    "        self.eat = True\n",
    "        self.sleep = True\n",
    "        self.favorite_food = None\n",
    "\n",
    "    def add_favorite_food(self, food):\n",
    "        self.favorite_food = food"
   ]
  },
  {
   "cell_type": "markdown",
   "metadata": {},
   "source": [
    "## Class Inheritance\n",
    "### Dog - Inherit from Animal\n",
    "### Newfoundland - Inherit from Dog"
   ]
  },
  {
   "cell_type": "code",
   "execution_count": null,
   "metadata": {},
   "outputs": [],
   "source": [
    "class Dog(Animal):\n",
    "    def __init__(self):\n",
    "        Animal.__init__(self)\n",
    "        self.bark = True\n",
    "        self.favorite_toy = None\n",
    "\n",
    "    def add_favorite_toy(self, toy):\n",
    "        self.favorite_toy = toy\n",
    "\n",
    "    def bark_sound(self):\n",
    "        return (\"Arrrrf\")"
   ]
  },
  {
   "cell_type": "code",
   "execution_count": null,
   "metadata": {},
   "outputs": [],
   "source": [
    "class Newfoundland(Dog):\n",
    "    def __init__(self):\n",
    "        Dog.__init__(self)\n",
    "        self.size = 'Huge'"
   ]
  },
  {
   "cell_type": "code",
   "execution_count": null,
   "metadata": {},
   "outputs": [],
   "source": [
    "gerald = Animal()"
   ]
  },
  {
   "cell_type": "code",
   "execution_count": null,
   "metadata": {},
   "outputs": [],
   "source": [
    "print(gerald.breath)\n",
    "print(gerald.eat)\n",
    "print(gerald.sleep)\n",
    "print(gerald.bark_sound()) # What happens?"
   ]
  },
  {
   "cell_type": "code",
   "execution_count": null,
   "metadata": {},
   "outputs": [],
   "source": [
    "boomer = Newfoundland()\n",
    "boomer.add_favorite_toy('ball') # Overriding \n",
    "boomer.add_favorite_food('berries')"
   ]
  },
  {
   "cell_type": "code",
   "execution_count": null,
   "metadata": {},
   "outputs": [],
   "source": [
    "print(boomer.breath)\n",
    "print(boomer.eat)\n",
    "print(boomer.sleep)\n",
    "print(boomer.favorite_food)\n",
    "print(boomer.favorite_toy)\n",
    "print(boomer.size)\n",
    "print(boomer.bark_sound()) # Can it bark?"
   ]
  },
  {
   "cell_type": "code",
   "execution_count": null,
   "metadata": {},
   "outputs": [],
   "source": []
  }
 ],
 "metadata": {
  "kernelspec": {
   "display_name": "Python 3",
   "language": "python",
   "name": "python3"
  },
  "language_info": {
   "codemirror_mode": {
    "name": "ipython",
    "version": 3
   },
   "file_extension": ".py",
   "mimetype": "text/x-python",
   "name": "python",
   "nbconvert_exporter": "python",
   "pygments_lexer": "ipython3",
   "version": "3.9.0"
  },
  "varInspector": {
   "cols": {
    "lenName": 16,
    "lenType": 16,
    "lenVar": 40
   },
   "kernels_config": {
    "python": {
     "delete_cmd_postfix": "",
     "delete_cmd_prefix": "del ",
     "library": "var_list.py",
     "varRefreshCmd": "print(var_dic_list())"
    },
    "r": {
     "delete_cmd_postfix": ") ",
     "delete_cmd_prefix": "rm(",
     "library": "var_list.r",
     "varRefreshCmd": "cat(var_dic_list()) "
    }
   },
   "types_to_exclude": [
    "module",
    "function",
    "builtin_function_or_method",
    "instance",
    "_Feature"
   ],
   "window_display": false
  }
 },
 "nbformat": 4,
 "nbformat_minor": 2
}
